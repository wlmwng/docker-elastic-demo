{
 "cells": [
  {
   "cell_type": "markdown",
   "id": "df63ebfd-1cdb-4488-9063-eb2b823e8fde",
   "metadata": {},
   "source": [
    "# Demo\n",
    "The demo is a Python-based Jupyter notebook which contains:\n",
    "- an example of how to add, retrieve, and delete a document using the Elasticsearch Python Client\n",
    "- an example showing how a document persists even if the containers are thrown away\n",
    "- a very basic intro to Kibana"
   ]
  },
  {
   "cell_type": "markdown",
   "id": "42c27a90-d779-4577-a89c-c0b362b086b5",
   "metadata": {},
   "source": [
    "## 1. Check the containers"
   ]
  },
  {
   "cell_type": "markdown",
   "id": "44906429-34d1-4e23-a97e-e2def6643969",
   "metadata": {},
   "source": [
    "Confirm that Elasticsearch and Kibana are available from the host machine:\n",
    "- To see Elasticsearch and the existing indices, open a new tab and go to http://localhost:8002/_cat/indices?v.\n",
    "    - Based on the index names, you can see that Kibana saves its data inside Elasticsearch even though it operates in its own container.\n",
    "- To see Kibana, open a new tab and go to http://localhost:8003/."
   ]
  },
  {
   "cell_type": "markdown",
   "id": "1444a52d-0f4c-4113-9c7b-9c8de4a247d0",
   "metadata": {},
   "source": [
    "## 2. Add, retrieve, and delete a document in Elasticsearch\n",
    "- Connect to the Elasticsearch container by creating an authenticated [Python Elasticsearch client](https://elasticsearch-py.readthedocs.io/en/v7.11.0/)"
   ]
  },
  {
   "cell_type": "code",
   "execution_count": 1,
   "id": "cf5f7099-4a0d-4cf2-b3dd-e350225fabcd",
   "metadata": {},
   "outputs": [],
   "source": [
    "from datetime import datetime\n",
    "# the build process installed the `elasticsearch` package from `requirements.txt` when it created the Jupyter container\n",
    "from elasticsearch import Elasticsearch"
   ]
  },
  {
   "cell_type": "code",
   "execution_count": 2,
   "id": "4a1c12a2-9523-4430-82fa-bec0118b9fca",
   "metadata": {},
   "outputs": [],
   "source": [
    "from dotenv import dotenv_values"
   ]
  },
  {
   "cell_type": "code",
   "execution_count": 3,
   "id": "1d0d231a-45ba-48c9-833f-e7432238e5ac",
   "metadata": {},
   "outputs": [],
   "source": [
    "# dictionary of variables from .env\n",
    "config = dotenv_values(\"../config/.env\") "
   ]
  },
  {
   "cell_type": "code",
   "execution_count": 4,
   "id": "e87ade68-55d5-493a-986c-448d8d61d1f6",
   "metadata": {
    "tags": []
   },
   "outputs": [],
   "source": [
    "es = Elasticsearch(hosts=[{\"host\": \"elasticsearch\"}], http_auth=(config['ELASTIC_USERNAME'], config['ELASTIC_PASSWORD']))"
   ]
  },
  {
   "cell_type": "markdown",
   "id": "005797ce-cd5e-4bf5-8f6f-a67b6757e084",
   "metadata": {},
   "source": [
    "- Add a document to the `demo` index and give it an `id` of 1. Elasticsearch will automatically create the `demo` index if it doesn't already exist."
   ]
  },
  {
   "cell_type": "code",
   "execution_count": 5,
   "id": "7da33bc1-2403-4603-b832-7a0255bd8957",
   "metadata": {},
   "outputs": [
    {
     "name": "stdout",
     "output_type": "stream",
     "text": [
      "created\n"
     ]
    }
   ],
   "source": [
    "# Example from https://elasticsearch-py.readthedocs.io/en/v7.11.0/index.html\n",
    "doc = {\n",
    "    'author': 'kimchy',\n",
    "    'text': 'Elasticsearch: cool. bonsai cool.',\n",
    "    'timestamp': datetime.now(),\n",
    "}\n",
    "res = es.index(index=\"demo\", id=1, body=doc)\n",
    "print(res['result'])"
   ]
  },
  {
   "cell_type": "markdown",
   "id": "7d3252d3-e61c-4528-9866-f19fcb1208df",
   "metadata": {},
   "source": [
    "- Go to http://localhost:8002/_cat/indices?v. You should see a new index called `demo` with one document in it.\n",
    "```\n",
    "health status index                           uuid                   pri rep docs.count docs.deleted store.size pri.store.size\n",
    "yellow open   demo                            Ilxkmf2yQCWLxIZVOIleFg   1   1          1            0      4.7kb          4.7kb\n",
    "```"
   ]
  },
  {
   "cell_type": "markdown",
   "id": "6b5d69c7-bb70-48ad-ae7a-4dc967042ed9",
   "metadata": {},
   "source": [
    "- Retrieve the document based on its `id`"
   ]
  },
  {
   "cell_type": "code",
   "execution_count": 6,
   "id": "19ed991e-b448-4c50-81f4-30f42647b69b",
   "metadata": {},
   "outputs": [
    {
     "name": "stdout",
     "output_type": "stream",
     "text": [
      "{'author': 'kimchy', 'text': 'Elasticsearch: cool. bonsai cool.', 'timestamp': '2021-10-20T03:54:56.937133'}\n"
     ]
    }
   ],
   "source": [
    "res = es.get(index=\"demo\", id=1)\n",
    "print(res['_source'])"
   ]
  },
  {
   "cell_type": "markdown",
   "id": "ad20aa4e-9734-42dd-9a04-253ff468a981",
   "metadata": {},
   "source": [
    "- Use a search query and match all documents in the `demo` index"
   ]
  },
  {
   "cell_type": "code",
   "execution_count": 7,
   "id": "d83b9d76-ba38-430d-81ae-3530731807a3",
   "metadata": {},
   "outputs": [
    {
     "name": "stdout",
     "output_type": "stream",
     "text": [
      "Got 1 Hits\n",
      "2021-10-20T03:54:56.937133 kimchy: Elasticsearch: cool. bonsai cool.\n"
     ]
    }
   ],
   "source": [
    "res = es.search(index=\"demo\", body={\"query\": {\"match_all\": {}}})\n",
    "print(\"Got %d Hits\" % res['hits']['total']['value'])\n",
    "for hit in res['hits']['hits']:\n",
    "    print(\"%(timestamp)s %(author)s: %(text)s\" % hit[\"_source\"])"
   ]
  },
  {
   "cell_type": "markdown",
   "id": "903a4c3f-be4e-4ccf-8223-16c7c630fbbd",
   "metadata": {},
   "source": [
    "- Delete the document"
   ]
  },
  {
   "cell_type": "code",
   "execution_count": 8,
   "id": "e929d435-9c3f-40de-b254-f63251241f34",
   "metadata": {},
   "outputs": [
    {
     "data": {
      "text/plain": [
       "{'_index': 'demo',\n",
       " '_type': '_doc',\n",
       " '_id': '1',\n",
       " '_version': 2,\n",
       " 'result': 'deleted',\n",
       " '_shards': {'total': 2, 'successful': 1, 'failed': 0},\n",
       " '_seq_no': 1,\n",
       " '_primary_term': 1}"
      ]
     },
     "execution_count": 8,
     "metadata": {},
     "output_type": "execute_result"
    }
   ],
   "source": [
    "es.delete(index=\"demo\", id=1)"
   ]
  },
  {
   "cell_type": "markdown",
   "id": "425e655c-4b66-40c9-a278-46309d0075ba",
   "metadata": {},
   "source": [
    "- There might be a time delay between when the document is deleted and when it is reflected in the search. Refresh the index to update it."
   ]
  },
  {
   "cell_type": "code",
   "execution_count": 9,
   "id": "17657ea0-c8f9-460a-9478-a4c423767c6f",
   "metadata": {},
   "outputs": [
    {
     "data": {
      "text/plain": [
       "{'_shards': {'total': 2, 'successful': 1, 'failed': 0}}"
      ]
     },
     "execution_count": 9,
     "metadata": {},
     "output_type": "execute_result"
    }
   ],
   "source": [
    "es.indices.refresh(index=\"demo\")"
   ]
  },
  {
   "cell_type": "code",
   "execution_count": 10,
   "id": "afe6c465-7185-4218-8b66-66422d88ee1d",
   "metadata": {},
   "outputs": [
    {
     "name": "stdout",
     "output_type": "stream",
     "text": [
      "Got 0 Hits\n"
     ]
    }
   ],
   "source": [
    "# search again to confirm the document is gone\n",
    "res = es.search(index=\"demo\", body={\"query\": {\"match_all\": {}}})\n",
    "print(\"Got %d Hits\" % res['hits']['total']['value'])\n",
    "for hit in res['hits']['hits']:\n",
    "    print(\"%(timestamp)s %(author)s: %(text)s\" % hit[\"_source\"])"
   ]
  },
  {
   "cell_type": "markdown",
   "id": "d648e541-e9f6-411f-8200-9361f9de33b2",
   "metadata": {},
   "source": [
    "- Delete the `demo` index"
   ]
  },
  {
   "cell_type": "code",
   "execution_count": 11,
   "id": "a9493330-a468-4511-8738-f1f20786378a",
   "metadata": {},
   "outputs": [
    {
     "data": {
      "text/plain": [
       "{'acknowledged': True}"
      ]
     },
     "execution_count": 11,
     "metadata": {},
     "output_type": "execute_result"
    }
   ],
   "source": [
    "es.indices.delete(index='demo')"
   ]
  },
  {
   "cell_type": "markdown",
   "id": "bdb44c4c-c388-4db1-b2d5-1b3ac14d1a28",
   "metadata": {
    "tags": []
   },
   "source": [
    "## 3. Check that documents persist even after the containers are thrown away\n",
    "- Add another document to Elasticsearch and check that it exists"
   ]
  },
  {
   "cell_type": "code",
   "execution_count": 12,
   "id": "1c84fbf9-0c96-4a56-9885-662b37d6a632",
   "metadata": {},
   "outputs": [
    {
     "name": "stdout",
     "output_type": "stream",
     "text": [
      "created\n"
     ]
    }
   ],
   "source": [
    "doc = {\n",
    "    'author': 'jovyan',\n",
    "    'text': 'document which should persist',\n",
    "    'timestamp': datetime.now(),\n",
    "}\n",
    "res = es.index(index=\"demo-persist\", id=2, body=doc)\n",
    "print(res['result'])"
   ]
  },
  {
   "cell_type": "code",
   "execution_count": 13,
   "id": "dc8eeb1b-2a90-4db4-ba3f-032a40d227a5",
   "metadata": {},
   "outputs": [
    {
     "name": "stdout",
     "output_type": "stream",
     "text": [
      "{'author': 'jovyan', 'text': 'document which should persist', 'timestamp': '2021-10-20T03:55:15.845087'}\n"
     ]
    }
   ],
   "source": [
    "res = es.get(index=\"demo-persist\", id=2)\n",
    "print(res['_source'])"
   ]
  },
  {
   "cell_type": "markdown",
   "id": "db4ce315-a758-44d6-9866-94dda435fd6c",
   "metadata": {},
   "source": [
    "- Run `docker-compose down` in your host machine's terminal\n",
    "- Use `docker ps -a` to confirm that all containers from the multi-container environment have been thrown away\n",
    "- Run `docker-compose up -d` to spin up the containers again\n",
    "- Open this notebook:\n",
    "    - skip all the cells above and run the cell below to check that the document you added still exists\n",
    "    - If you see 'ConnectionRefusedError', try again in a few seconds (the Elasticsearch service is likely still booting up)"
   ]
  },
  {
   "cell_type": "code",
   "execution_count": 1,
   "id": "5f43543e-5c01-443f-b54e-138f6bbcc792",
   "metadata": {},
   "outputs": [
    {
     "name": "stdout",
     "output_type": "stream",
     "text": [
      "{'author': 'jovyan', 'text': 'document which should persist', 'timestamp': '2021-10-20T03:55:15.845087'}\n"
     ]
    }
   ],
   "source": [
    "from dotenv import dotenv_values\n",
    "config = dotenv_values(\"../config/.env\") \n",
    "from datetime import datetime\n",
    "from elasticsearch import Elasticsearch\n",
    "es = Elasticsearch(hosts=[{\"host\": \"elasticsearch\"}], http_auth=(config['ELASTIC_USERNAME'], config['ELASTIC_PASSWORD']))\n",
    "res = es.get(index=\"demo-persist\", id=2)\n",
    "print(res['_source'])"
   ]
  },
  {
   "cell_type": "markdown",
   "id": "bbbac204-2d55-43e6-a2e8-9c3bcf925a50",
   "metadata": {},
   "source": [
    "- delete the `demo-persist` index"
   ]
  },
  {
   "cell_type": "code",
   "execution_count": 2,
   "id": "07491432-d0ee-44f2-af8c-ec6a91e0819d",
   "metadata": {},
   "outputs": [
    {
     "data": {
      "text/plain": [
       "{'acknowledged': True}"
      ]
     },
     "execution_count": 2,
     "metadata": {},
     "output_type": "execute_result"
    }
   ],
   "source": [
    "es.indices.delete(index='demo-persist')"
   ]
  },
  {
   "cell_type": "markdown",
   "id": "52ba5c3b-9b78-49da-a60b-69a2bc889ad0",
   "metadata": {
    "tags": []
   },
   "source": [
    "## 4. Explore your data in Kibana\n",
    "- When you go to http://localhost:8003/, you'll see the homepage for Kibana.\n",
    "- Click `Kibana: Visualize and Analyze` and then `Add your data`.\n",
    "- Since you don't have any data yet, let's adds some!"
   ]
  },
  {
   "cell_type": "code",
   "execution_count": 3,
   "id": "4cfdb498-dff9-40c2-8912-93004a0ffba6",
   "metadata": {},
   "outputs": [],
   "source": [
    "import time"
   ]
  },
  {
   "cell_type": "code",
   "execution_count": 4,
   "id": "8ea3bb0d-9a94-41c0-b6b6-7f79d195a53c",
   "metadata": {},
   "outputs": [],
   "source": [
    "def add_test_docs(number_of_docs):\n",
    "    for n in range(number_of_docs):\n",
    "        doc = {\n",
    "        'author': 'jovyan',\n",
    "        'text': f'this is the text for document {n}',\n",
    "        'timestamp': datetime.now(),\n",
    "        }\n",
    "        es.index(index=\"demo-kibana\", id=n, body=doc)\n",
    "        print(f\"added document {n}\")\n",
    "        time.sleep(1)"
   ]
  },
  {
   "cell_type": "code",
   "execution_count": 5,
   "id": "a82b67e5-44b7-4480-acc8-f661e32481e9",
   "metadata": {},
   "outputs": [
    {
     "name": "stdout",
     "output_type": "stream",
     "text": [
      "added document 0\n",
      "added document 1\n",
      "added document 2\n",
      "added document 3\n",
      "added document 4\n",
      "added document 5\n",
      "added document 6\n",
      "added document 7\n",
      "added document 8\n",
      "added document 9\n"
     ]
    }
   ],
   "source": [
    "add_test_docs(10)"
   ]
  },
  {
   "cell_type": "code",
   "execution_count": 6,
   "id": "d02c78a9-5d3d-48a7-b1a4-0bf87f8a5464",
   "metadata": {},
   "outputs": [
    {
     "data": {
      "text/plain": [
       "{'_shards': {'total': 2, 'successful': 1, 'failed': 0}}"
      ]
     },
     "execution_count": 6,
     "metadata": {},
     "output_type": "execute_result"
    }
   ],
   "source": [
    "es.indices.refresh(index=\"demo-kibana\")"
   ]
  },
  {
   "cell_type": "code",
   "execution_count": 7,
   "id": "286febeb-9d84-438e-a34a-b410921bc3a7",
   "metadata": {},
   "outputs": [
    {
     "name": "stdout",
     "output_type": "stream",
     "text": [
      "Got 10 Hits:\n",
      "2021-10-20T03:57:36.465497 jovyan: this is the text for document 0\n",
      "2021-10-20T03:57:37.775005 jovyan: this is the text for document 1\n",
      "2021-10-20T03:57:38.790308 jovyan: this is the text for document 2\n",
      "2021-10-20T03:57:39.822712 jovyan: this is the text for document 3\n",
      "2021-10-20T03:57:40.836326 jovyan: this is the text for document 4\n",
      "2021-10-20T03:57:41.853791 jovyan: this is the text for document 5\n",
      "2021-10-20T03:57:42.873192 jovyan: this is the text for document 6\n",
      "2021-10-20T03:57:43.888203 jovyan: this is the text for document 7\n",
      "2021-10-20T03:57:44.911346 jovyan: this is the text for document 8\n",
      "2021-10-20T03:57:45.930949 jovyan: this is the text for document 9\n"
     ]
    }
   ],
   "source": [
    "res = es.search(index=\"demo-kibana\", body={\"query\": {\"match_all\": {}}})\n",
    "print(\"Got %d Hits:\" % res['hits']['total']['value'])\n",
    "for hit in res['hits']['hits']:\n",
    "    print(\"%(timestamp)s %(author)s: %(text)s\" % hit[\"_source\"])"
   ]
  },
  {
   "cell_type": "markdown",
   "id": "a957fed9-05a1-49fa-98e0-cd6717c4a645",
   "metadata": {},
   "source": [
    "- Click `Check for new data` and `Create index pattern`\n",
    "- Set the index pattern name to `demo-kibana` and the Time field to `timestamp`\n",
    "- Open up the side menu (three lines in the top left corner)\n",
    "- Click the `Analytics: Discover` tab. You should be able to see the 10 documents you added sorted by `timestamp`.\n",
    "- Feel free to add more test data to explore how the `Analytics: Visualize` tab can help you monitor your data collection. \n",
    "    - The [kibana-enhanced-table plugin](https://github.com/fbaligand/kibana-enhanced-table) has been added to the Kibana container so you can find \"enhanced table\" and \"document table\" under the aggregation-based visualization type.\n",
    "- After you build 1+ visualizations, you can put your them together using `Analytics: Dashboard`."
   ]
  },
  {
   "cell_type": "markdown",
   "id": "edc96cc0-e1c8-409c-8802-8d849b3036e5",
   "metadata": {},
   "source": [
    "When you're done,\n",
    "\n",
    "1. delete the `demo-kibana` index in Elasticsearch"
   ]
  },
  {
   "cell_type": "code",
   "execution_count": 8,
   "id": "47fe1c04-8708-4878-9ea1-f1e2965a5f1f",
   "metadata": {},
   "outputs": [
    {
     "data": {
      "text/plain": [
       "{'acknowledged': True}"
      ]
     },
     "execution_count": 8,
     "metadata": {},
     "output_type": "execute_result"
    }
   ],
   "source": [
    "es.indices.delete(index='demo-kibana')"
   ]
  },
  {
   "cell_type": "markdown",
   "id": "f74d65ff-dad9-43c7-8e28-e36dfdaa6cd2",
   "metadata": {},
   "source": [
    "2. and delete the index pattern in Kibana by clicking:\n",
    "- the Elastic icon to return to the home page (top left corner)\n",
    "- `Manage`\n",
    "- `Kibana: Index Patterns` (bottom left)\n",
    "- `demo-kibana` under the `Pattern` column\n",
    "- and finally the trash can icon to remove it"
   ]
  }
 ],
 "metadata": {
  "kernelspec": {
   "display_name": "Python 3 (ipykernel)",
   "language": "python",
   "name": "python3"
  },
  "language_info": {
   "codemirror_mode": {
    "name": "ipython",
    "version": 3
   },
   "file_extension": ".py",
   "mimetype": "text/x-python",
   "name": "python",
   "nbconvert_exporter": "python",
   "pygments_lexer": "ipython3",
   "version": "3.9.7"
  }
 },
 "nbformat": 4,
 "nbformat_minor": 5
}
